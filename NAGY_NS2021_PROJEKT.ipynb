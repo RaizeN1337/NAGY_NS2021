{
 "cells": [
  {
   "cell_type": "code",
   "execution_count": 1,
   "metadata": {},
   "outputs": [],
   "source": [
    "# Časť 1: Data Preprocessing\n",
    "\n",
    "# Importovanie knižníc\n",
    "import numpy as np               # NumPy je knižnica Pythonu používaná na prácu s poľami\n",
    "import matplotlib.pyplot as plt  # Matplotlib je knižnica vizualizácie a grafického vykresľovania údajov pre Python, pyplot sa používa na vykreslenie 2D grafiky \n",
    "import pandas as pd              # Pandas je knižnica Pythonu používaná na manipuláciu a analýzu údajov"
   ]
  },
  {
   "cell_type": "code",
   "execution_count": null,
   "metadata": {},
   "outputs": [],
   "source": []
  }
 ],
 "metadata": {
  "kernelspec": {
   "display_name": "Python 3",
   "language": "python",
   "name": "python3"
  },
  "language_info": {
   "codemirror_mode": {
    "name": "ipython",
    "version": 3
   },
   "file_extension": ".py",
   "mimetype": "text/x-python",
   "name": "python",
   "nbconvert_exporter": "python",
   "pygments_lexer": "ipython3",
   "version": "3.8.5"
  }
 },
 "nbformat": 4,
 "nbformat_minor": 4
}
